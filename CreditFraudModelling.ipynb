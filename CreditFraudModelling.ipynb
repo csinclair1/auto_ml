{
 "cells": [
  {
   "cell_type": "code",
   "execution_count": 1,
   "metadata": {},
   "outputs": [],
   "source": [
    "import pandas as pd\n",
    "import numpy as np\n",
    "\n",
    "from sklearn.model_selection import train_test_split\n",
    "from imblearn import under_sampling, over_sampling\n",
    "from imblearn.over_sampling import SMOTE\n",
    "from imblearn.pipeline import Pipeline\n",
    "from imblearn.under_sampling import RandomUnderSampler\n",
    "from sklearn.model_selection import RepeatedStratifiedKFold\n",
    "\n",
    "from sklearn.tree import DecisionTreeClassifier\n",
    "from sklearn.ensemble import RandomForestClassifier\n",
    "from sklearn.linear_model import LogisticRegression\n",
    "from sklearn import svm\n",
    "from xgboost import XGBClassifier, plot_importance\n",
    "\n",
    "from sklearn.metrics import classification_report\n",
    "from sklearn.metrics import roc_auc_score\n",
    "from sklearn.metrics import plot_confusion_matrix\n",
    "from sklearn.metrics import confusion_matrix\n",
    "from sklearn.metrics import f1_score\n",
    "from sklearn.preprocessing import StandardScaler\n",
    "from sklearn.metrics import roc_curve\n",
    "from sklearn.metrics import precision_recall_curve\n",
    "from sklearn.metrics import fbeta_score\n"
   ]
  },
  {
   "cell_type": "code",
   "execution_count": 2,
   "metadata": {},
   "outputs": [],
   "source": [
    "input_file = r'C:\\Users\\csinc\\Documents\\Charlie\\Side_Projects\\Kaggle\\Credit_Card_Fraud_Detection\\Data\\creditcard.csv'\n",
    "\n",
    "df = pd.read_csv(input_file)"
   ]
  },
  {
   "cell_type": "markdown",
   "metadata": {},
   "source": [
    "# Data\n",
    "\n",
    "The data contains 31 columns.\n",
    "Time since initial transaction.\n",
    "Amount of transaction.\n",
    "28 PCA variables.\n",
    "Class - 1 for fraud, 0 for not."
   ]
  },
  {
   "cell_type": "code",
   "execution_count": 3,
   "metadata": {},
   "outputs": [
    {
     "data": {
      "text/html": [
       "<div>\n",
       "<style scoped>\n",
       "    .dataframe tbody tr th:only-of-type {\n",
       "        vertical-align: middle;\n",
       "    }\n",
       "\n",
       "    .dataframe tbody tr th {\n",
       "        vertical-align: top;\n",
       "    }\n",
       "\n",
       "    .dataframe thead th {\n",
       "        text-align: right;\n",
       "    }\n",
       "</style>\n",
       "<table border=\"1\" class=\"dataframe\">\n",
       "  <thead>\n",
       "    <tr style=\"text-align: right;\">\n",
       "      <th></th>\n",
       "      <th>Time</th>\n",
       "      <th>V1</th>\n",
       "      <th>V2</th>\n",
       "      <th>V3</th>\n",
       "      <th>V4</th>\n",
       "      <th>V5</th>\n",
       "      <th>V6</th>\n",
       "      <th>V7</th>\n",
       "      <th>V8</th>\n",
       "      <th>V9</th>\n",
       "      <th>...</th>\n",
       "      <th>V21</th>\n",
       "      <th>V22</th>\n",
       "      <th>V23</th>\n",
       "      <th>V24</th>\n",
       "      <th>V25</th>\n",
       "      <th>V26</th>\n",
       "      <th>V27</th>\n",
       "      <th>V28</th>\n",
       "      <th>Amount</th>\n",
       "      <th>Class</th>\n",
       "    </tr>\n",
       "  </thead>\n",
       "  <tbody>\n",
       "    <tr>\n",
       "      <th>0</th>\n",
       "      <td>0.0</td>\n",
       "      <td>-1.359807</td>\n",
       "      <td>-0.072781</td>\n",
       "      <td>2.536347</td>\n",
       "      <td>1.378155</td>\n",
       "      <td>-0.338321</td>\n",
       "      <td>0.462388</td>\n",
       "      <td>0.239599</td>\n",
       "      <td>0.098698</td>\n",
       "      <td>0.363787</td>\n",
       "      <td>...</td>\n",
       "      <td>-0.018307</td>\n",
       "      <td>0.277838</td>\n",
       "      <td>-0.110474</td>\n",
       "      <td>0.066928</td>\n",
       "      <td>0.128539</td>\n",
       "      <td>-0.189115</td>\n",
       "      <td>0.133558</td>\n",
       "      <td>-0.021053</td>\n",
       "      <td>149.62</td>\n",
       "      <td>0</td>\n",
       "    </tr>\n",
       "    <tr>\n",
       "      <th>1</th>\n",
       "      <td>0.0</td>\n",
       "      <td>1.191857</td>\n",
       "      <td>0.266151</td>\n",
       "      <td>0.166480</td>\n",
       "      <td>0.448154</td>\n",
       "      <td>0.060018</td>\n",
       "      <td>-0.082361</td>\n",
       "      <td>-0.078803</td>\n",
       "      <td>0.085102</td>\n",
       "      <td>-0.255425</td>\n",
       "      <td>...</td>\n",
       "      <td>-0.225775</td>\n",
       "      <td>-0.638672</td>\n",
       "      <td>0.101288</td>\n",
       "      <td>-0.339846</td>\n",
       "      <td>0.167170</td>\n",
       "      <td>0.125895</td>\n",
       "      <td>-0.008983</td>\n",
       "      <td>0.014724</td>\n",
       "      <td>2.69</td>\n",
       "      <td>0</td>\n",
       "    </tr>\n",
       "    <tr>\n",
       "      <th>2</th>\n",
       "      <td>1.0</td>\n",
       "      <td>-1.358354</td>\n",
       "      <td>-1.340163</td>\n",
       "      <td>1.773209</td>\n",
       "      <td>0.379780</td>\n",
       "      <td>-0.503198</td>\n",
       "      <td>1.800499</td>\n",
       "      <td>0.791461</td>\n",
       "      <td>0.247676</td>\n",
       "      <td>-1.514654</td>\n",
       "      <td>...</td>\n",
       "      <td>0.247998</td>\n",
       "      <td>0.771679</td>\n",
       "      <td>0.909412</td>\n",
       "      <td>-0.689281</td>\n",
       "      <td>-0.327642</td>\n",
       "      <td>-0.139097</td>\n",
       "      <td>-0.055353</td>\n",
       "      <td>-0.059752</td>\n",
       "      <td>378.66</td>\n",
       "      <td>0</td>\n",
       "    </tr>\n",
       "    <tr>\n",
       "      <th>3</th>\n",
       "      <td>1.0</td>\n",
       "      <td>-0.966272</td>\n",
       "      <td>-0.185226</td>\n",
       "      <td>1.792993</td>\n",
       "      <td>-0.863291</td>\n",
       "      <td>-0.010309</td>\n",
       "      <td>1.247203</td>\n",
       "      <td>0.237609</td>\n",
       "      <td>0.377436</td>\n",
       "      <td>-1.387024</td>\n",
       "      <td>...</td>\n",
       "      <td>-0.108300</td>\n",
       "      <td>0.005274</td>\n",
       "      <td>-0.190321</td>\n",
       "      <td>-1.175575</td>\n",
       "      <td>0.647376</td>\n",
       "      <td>-0.221929</td>\n",
       "      <td>0.062723</td>\n",
       "      <td>0.061458</td>\n",
       "      <td>123.50</td>\n",
       "      <td>0</td>\n",
       "    </tr>\n",
       "    <tr>\n",
       "      <th>4</th>\n",
       "      <td>2.0</td>\n",
       "      <td>-1.158233</td>\n",
       "      <td>0.877737</td>\n",
       "      <td>1.548718</td>\n",
       "      <td>0.403034</td>\n",
       "      <td>-0.407193</td>\n",
       "      <td>0.095921</td>\n",
       "      <td>0.592941</td>\n",
       "      <td>-0.270533</td>\n",
       "      <td>0.817739</td>\n",
       "      <td>...</td>\n",
       "      <td>-0.009431</td>\n",
       "      <td>0.798278</td>\n",
       "      <td>-0.137458</td>\n",
       "      <td>0.141267</td>\n",
       "      <td>-0.206010</td>\n",
       "      <td>0.502292</td>\n",
       "      <td>0.219422</td>\n",
       "      <td>0.215153</td>\n",
       "      <td>69.99</td>\n",
       "      <td>0</td>\n",
       "    </tr>\n",
       "    <tr>\n",
       "      <th>...</th>\n",
       "      <td>...</td>\n",
       "      <td>...</td>\n",
       "      <td>...</td>\n",
       "      <td>...</td>\n",
       "      <td>...</td>\n",
       "      <td>...</td>\n",
       "      <td>...</td>\n",
       "      <td>...</td>\n",
       "      <td>...</td>\n",
       "      <td>...</td>\n",
       "      <td>...</td>\n",
       "      <td>...</td>\n",
       "      <td>...</td>\n",
       "      <td>...</td>\n",
       "      <td>...</td>\n",
       "      <td>...</td>\n",
       "      <td>...</td>\n",
       "      <td>...</td>\n",
       "      <td>...</td>\n",
       "      <td>...</td>\n",
       "      <td>...</td>\n",
       "    </tr>\n",
       "    <tr>\n",
       "      <th>284802</th>\n",
       "      <td>172786.0</td>\n",
       "      <td>-11.881118</td>\n",
       "      <td>10.071785</td>\n",
       "      <td>-9.834783</td>\n",
       "      <td>-2.066656</td>\n",
       "      <td>-5.364473</td>\n",
       "      <td>-2.606837</td>\n",
       "      <td>-4.918215</td>\n",
       "      <td>7.305334</td>\n",
       "      <td>1.914428</td>\n",
       "      <td>...</td>\n",
       "      <td>0.213454</td>\n",
       "      <td>0.111864</td>\n",
       "      <td>1.014480</td>\n",
       "      <td>-0.509348</td>\n",
       "      <td>1.436807</td>\n",
       "      <td>0.250034</td>\n",
       "      <td>0.943651</td>\n",
       "      <td>0.823731</td>\n",
       "      <td>0.77</td>\n",
       "      <td>0</td>\n",
       "    </tr>\n",
       "    <tr>\n",
       "      <th>284803</th>\n",
       "      <td>172787.0</td>\n",
       "      <td>-0.732789</td>\n",
       "      <td>-0.055080</td>\n",
       "      <td>2.035030</td>\n",
       "      <td>-0.738589</td>\n",
       "      <td>0.868229</td>\n",
       "      <td>1.058415</td>\n",
       "      <td>0.024330</td>\n",
       "      <td>0.294869</td>\n",
       "      <td>0.584800</td>\n",
       "      <td>...</td>\n",
       "      <td>0.214205</td>\n",
       "      <td>0.924384</td>\n",
       "      <td>0.012463</td>\n",
       "      <td>-1.016226</td>\n",
       "      <td>-0.606624</td>\n",
       "      <td>-0.395255</td>\n",
       "      <td>0.068472</td>\n",
       "      <td>-0.053527</td>\n",
       "      <td>24.79</td>\n",
       "      <td>0</td>\n",
       "    </tr>\n",
       "    <tr>\n",
       "      <th>284804</th>\n",
       "      <td>172788.0</td>\n",
       "      <td>1.919565</td>\n",
       "      <td>-0.301254</td>\n",
       "      <td>-3.249640</td>\n",
       "      <td>-0.557828</td>\n",
       "      <td>2.630515</td>\n",
       "      <td>3.031260</td>\n",
       "      <td>-0.296827</td>\n",
       "      <td>0.708417</td>\n",
       "      <td>0.432454</td>\n",
       "      <td>...</td>\n",
       "      <td>0.232045</td>\n",
       "      <td>0.578229</td>\n",
       "      <td>-0.037501</td>\n",
       "      <td>0.640134</td>\n",
       "      <td>0.265745</td>\n",
       "      <td>-0.087371</td>\n",
       "      <td>0.004455</td>\n",
       "      <td>-0.026561</td>\n",
       "      <td>67.88</td>\n",
       "      <td>0</td>\n",
       "    </tr>\n",
       "    <tr>\n",
       "      <th>284805</th>\n",
       "      <td>172788.0</td>\n",
       "      <td>-0.240440</td>\n",
       "      <td>0.530483</td>\n",
       "      <td>0.702510</td>\n",
       "      <td>0.689799</td>\n",
       "      <td>-0.377961</td>\n",
       "      <td>0.623708</td>\n",
       "      <td>-0.686180</td>\n",
       "      <td>0.679145</td>\n",
       "      <td>0.392087</td>\n",
       "      <td>...</td>\n",
       "      <td>0.265245</td>\n",
       "      <td>0.800049</td>\n",
       "      <td>-0.163298</td>\n",
       "      <td>0.123205</td>\n",
       "      <td>-0.569159</td>\n",
       "      <td>0.546668</td>\n",
       "      <td>0.108821</td>\n",
       "      <td>0.104533</td>\n",
       "      <td>10.00</td>\n",
       "      <td>0</td>\n",
       "    </tr>\n",
       "    <tr>\n",
       "      <th>284806</th>\n",
       "      <td>172792.0</td>\n",
       "      <td>-0.533413</td>\n",
       "      <td>-0.189733</td>\n",
       "      <td>0.703337</td>\n",
       "      <td>-0.506271</td>\n",
       "      <td>-0.012546</td>\n",
       "      <td>-0.649617</td>\n",
       "      <td>1.577006</td>\n",
       "      <td>-0.414650</td>\n",
       "      <td>0.486180</td>\n",
       "      <td>...</td>\n",
       "      <td>0.261057</td>\n",
       "      <td>0.643078</td>\n",
       "      <td>0.376777</td>\n",
       "      <td>0.008797</td>\n",
       "      <td>-0.473649</td>\n",
       "      <td>-0.818267</td>\n",
       "      <td>-0.002415</td>\n",
       "      <td>0.013649</td>\n",
       "      <td>217.00</td>\n",
       "      <td>0</td>\n",
       "    </tr>\n",
       "  </tbody>\n",
       "</table>\n",
       "<p>284807 rows × 31 columns</p>\n",
       "</div>"
      ],
      "text/plain": [
       "            Time         V1         V2        V3        V4        V5  \\\n",
       "0            0.0  -1.359807  -0.072781  2.536347  1.378155 -0.338321   \n",
       "1            0.0   1.191857   0.266151  0.166480  0.448154  0.060018   \n",
       "2            1.0  -1.358354  -1.340163  1.773209  0.379780 -0.503198   \n",
       "3            1.0  -0.966272  -0.185226  1.792993 -0.863291 -0.010309   \n",
       "4            2.0  -1.158233   0.877737  1.548718  0.403034 -0.407193   \n",
       "...          ...        ...        ...       ...       ...       ...   \n",
       "284802  172786.0 -11.881118  10.071785 -9.834783 -2.066656 -5.364473   \n",
       "284803  172787.0  -0.732789  -0.055080  2.035030 -0.738589  0.868229   \n",
       "284804  172788.0   1.919565  -0.301254 -3.249640 -0.557828  2.630515   \n",
       "284805  172788.0  -0.240440   0.530483  0.702510  0.689799 -0.377961   \n",
       "284806  172792.0  -0.533413  -0.189733  0.703337 -0.506271 -0.012546   \n",
       "\n",
       "              V6        V7        V8        V9  ...       V21       V22  \\\n",
       "0       0.462388  0.239599  0.098698  0.363787  ... -0.018307  0.277838   \n",
       "1      -0.082361 -0.078803  0.085102 -0.255425  ... -0.225775 -0.638672   \n",
       "2       1.800499  0.791461  0.247676 -1.514654  ...  0.247998  0.771679   \n",
       "3       1.247203  0.237609  0.377436 -1.387024  ... -0.108300  0.005274   \n",
       "4       0.095921  0.592941 -0.270533  0.817739  ... -0.009431  0.798278   \n",
       "...          ...       ...       ...       ...  ...       ...       ...   \n",
       "284802 -2.606837 -4.918215  7.305334  1.914428  ...  0.213454  0.111864   \n",
       "284803  1.058415  0.024330  0.294869  0.584800  ...  0.214205  0.924384   \n",
       "284804  3.031260 -0.296827  0.708417  0.432454  ...  0.232045  0.578229   \n",
       "284805  0.623708 -0.686180  0.679145  0.392087  ...  0.265245  0.800049   \n",
       "284806 -0.649617  1.577006 -0.414650  0.486180  ...  0.261057  0.643078   \n",
       "\n",
       "             V23       V24       V25       V26       V27       V28  Amount  \\\n",
       "0      -0.110474  0.066928  0.128539 -0.189115  0.133558 -0.021053  149.62   \n",
       "1       0.101288 -0.339846  0.167170  0.125895 -0.008983  0.014724    2.69   \n",
       "2       0.909412 -0.689281 -0.327642 -0.139097 -0.055353 -0.059752  378.66   \n",
       "3      -0.190321 -1.175575  0.647376 -0.221929  0.062723  0.061458  123.50   \n",
       "4      -0.137458  0.141267 -0.206010  0.502292  0.219422  0.215153   69.99   \n",
       "...          ...       ...       ...       ...       ...       ...     ...   \n",
       "284802  1.014480 -0.509348  1.436807  0.250034  0.943651  0.823731    0.77   \n",
       "284803  0.012463 -1.016226 -0.606624 -0.395255  0.068472 -0.053527   24.79   \n",
       "284804 -0.037501  0.640134  0.265745 -0.087371  0.004455 -0.026561   67.88   \n",
       "284805 -0.163298  0.123205 -0.569159  0.546668  0.108821  0.104533   10.00   \n",
       "284806  0.376777  0.008797 -0.473649 -0.818267 -0.002415  0.013649  217.00   \n",
       "\n",
       "        Class  \n",
       "0           0  \n",
       "1           0  \n",
       "2           0  \n",
       "3           0  \n",
       "4           0  \n",
       "...       ...  \n",
       "284802      0  \n",
       "284803      0  \n",
       "284804      0  \n",
       "284805      0  \n",
       "284806      0  \n",
       "\n",
       "[284807 rows x 31 columns]"
      ]
     },
     "execution_count": 3,
     "metadata": {},
     "output_type": "execute_result"
    }
   ],
   "source": [
    "df"
   ]
  },
  {
   "cell_type": "code",
   "execution_count": 4,
   "metadata": {},
   "outputs": [],
   "source": [
    "df['Index'] = np.linspace(0, df.shape[0]-1, df.shape[0], dtype = 'int64')"
   ]
  },
  {
   "cell_type": "code",
   "execution_count": 5,
   "metadata": {},
   "outputs": [
    {
     "data": {
      "text/plain": [
       "Index(['Time', 'V1', 'V2', 'V3', 'V4', 'V5', 'V6', 'V7', 'V8', 'V9', 'V10',\n",
       "       'V11', 'V12', 'V13', 'V14', 'V15', 'V16', 'V17', 'V18', 'V19', 'V20',\n",
       "       'V21', 'V22', 'V23', 'V24', 'V25', 'V26', 'V27', 'V28', 'Amount',\n",
       "       'Class', 'Index'],\n",
       "      dtype='object')"
      ]
     },
     "execution_count": 5,
     "metadata": {},
     "output_type": "execute_result"
    }
   ],
   "source": [
    "df.columns"
   ]
  },
  {
   "cell_type": "code",
   "execution_count": 6,
   "metadata": {},
   "outputs": [],
   "source": [
    "features = ['V1', 'V2', 'V3', 'V4', 'V5', 'V6', 'V7', 'V8', 'V9', 'V10',\n",
    "       'V11', 'V12', 'V13', 'V14', 'V15', 'V16', 'V17', 'V18', 'V19', 'V20',\n",
    "       'V21', 'V22', 'V23', 'V24', 'V25', 'V26', 'V27', 'V28', 'Amount']\n",
    "# removed index as it doesn't mean anything for modelling\n",
    "# removed time for the same reason as index\n",
    "X = df[features]\n",
    "y = df['Class']"
   ]
  },
  {
   "cell_type": "code",
   "execution_count": 7,
   "metadata": {},
   "outputs": [],
   "source": [
    "X_train, X_test, y_train, y_test = train_test_split(X, y, test_size = 0.2, random_state = 42, stratify = y)"
   ]
  },
  {
   "cell_type": "code",
   "execution_count": 17,
   "metadata": {},
   "outputs": [],
   "source": [
    "def recall_score(y_test, y_pred):\n",
    "    cnf_matrix = confusion_matrix(y_test,y_pred)\n",
    "    return(cnf_matrix[1,1]/(cnf_matrix[1,0]+cnf_matrix[1,1]))\n",
    "\n",
    "def model_metric(X_train, y_train, X_test, y_test, over_perc, under_perc):\n",
    "    \n",
    "    oversample = SMOTE(sampling_strategy = over_perc)\n",
    "    undersample = RandomUnderSampler(sampling_strategy = under_perc)\n",
    "    model = XGBClassifier(eval_metric = 'aucpr', use_label_encoder=False)\n",
    "    steps = [('over', oversample), ('under', undersample), ('model', model)]\n",
    "    pipeline = Pipeline(steps=steps)\n",
    "    pipeline.fit(X_train, y_train)\n",
    "    y_pred = pipeline.predict(X_test)\n",
    "    metric = fbeta_score(y_test, y_pred, average='macro', beta = 2)\n",
    "    return(metric)\n",
    "\n",
    "def model_base(X_train, y_train, X_test, y_test):\n",
    "    \n",
    "    model = XGBClassifier(use_label_encoder=False)\n",
    "    steps = [('model', model)]\n",
    "    pipeline = Pipeline(steps=steps)\n",
    "    pipeline.fit(X_train, y_train)\n",
    "    y_pred = pipeline.predict(X_test)\n",
    "    return(pipeline)"
   ]
  },
  {
   "cell_type": "code",
   "execution_count": 95,
   "metadata": {},
   "outputs": [
    {
     "name": "stdout",
     "output_type": "stream",
     "text": [
      "The optimal setting is: [0.1, 0.3]\n",
      "Max F2 Score:  0.8979591836734694\n"
     ]
    }
   ],
   "source": [
    "# TO FIND OPTIMAL OVER AND UNDER SAMPLING LEVELS\n",
    "# Optimal here means maximising recall score.\n",
    "\n",
    "over_lst = [0.1, 0.2, 0.3, 0.4, 0.5, 0.6, 0.7, 0.8, 0.9]\n",
    "under_lst = [0.1, 0.2, 0.3, 0.4, 0.5, 0.6, 0.7, 0.8, 0.9]\n",
    "\n",
    "max_metric = 0\n",
    "optimum_setting = ['null','null']\n",
    "i = 1\n",
    "\n",
    "for over_perc in over_lst:\n",
    "    for under_perc in under_lst:\n",
    "        if over_perc <= under_perc: #Errors if this isn't true.\n",
    "            metric = create_model(X_train, y_train, X_test, y_test, over_perc, under_perc)\n",
    "            if metric > max_metric:\n",
    "                optimum_setting = [over_perc, under_perc]\n",
    "                max_metric = metric\n",
    "        print(str(round(i*100 / (len(over_lst)*len(under_lst)), 2)) + '% Complete             ', end = '\\r')\n",
    "        i += 1\n",
    "\n",
    "print('The optimal setting is:', optimum_setting)\n",
    "print('Max F2 Score: ', max_metric)"
   ]
  },
  {
   "cell_type": "code",
   "execution_count": 9,
   "metadata": {},
   "outputs": [],
   "source": [
    "def create_model_XGB(X_train, y_train, X_test, y_test, over_perc, under_perc):\n",
    "    \n",
    "    oversample = SMOTE(sampling_strategy = over_perc)\n",
    "    undersample = RandomUnderSampler(sampling_strategy = under_perc)\n",
    "    model = XGBClassifier(eval_metric = 'aucpr', use_label_encoder=False)\n",
    "    steps = [('over', oversample), ('under', undersample), ('model', model)]\n",
    "    pipeline = Pipeline(steps=steps)\n",
    "    pipeline.fit(X_train, y_train)\n",
    "    return(pipeline)\n",
    "\n",
    "def create_model_RFC(X_train, y_train, X_test, y_test, over_perc, under_perc):\n",
    "    \n",
    "    oversample = SMOTE(sampling_strategy = over_perc)\n",
    "    undersample = RandomUnderSampler(sampling_strategy = under_perc)\n",
    "    model = RandomForestClassifier()\n",
    "    steps = [('over', oversample), ('under', undersample), ('model', model)]\n",
    "    pipeline = Pipeline(steps=steps)\n",
    "    pipeline.fit(X_train, y_train)\n",
    "    return(pipeline)\n",
    "\n",
    "def create_model_LogReg(X_train, y_train, X_test, y_test, over_perc, under_perc):\n",
    "    \n",
    "    scaler = StandardScaler()\n",
    "    oversample = SMOTE(sampling_strategy = over_perc)\n",
    "    undersample = RandomUnderSampler(sampling_strategy = under_perc)\n",
    "    model = LogisticRegression()\n",
    "    steps = [('scaler', scaler), ('over', oversample), ('under', undersample), ('model', model)]\n",
    "    pipeline = Pipeline(steps=steps)\n",
    "    pipeline.fit(X_train, y_train)\n",
    "    return(pipeline)\n",
    "\n",
    "def create_model_SVC(X_train, y_train, X_test, y_test, over_perc, under_perc):\n",
    "    \n",
    "    scaler = StandardScaler()\n",
    "    oversample = SMOTE(sampling_strategy = over_perc)\n",
    "    undersample = RandomUnderSampler(sampling_strategy = under_perc)\n",
    "    model = svm.SVC()\n",
    "    steps = [('over', oversample), ('under', undersample), ('model', model)]\n",
    "    pipeline = Pipeline(steps=steps)\n",
    "    pipeline.fit(X_train, y_train)\n",
    "    return(pipeline)"
   ]
  },
  {
   "cell_type": "code",
   "execution_count": 18,
   "metadata": {},
   "outputs": [
    {
     "name": "stdout",
     "output_type": "stream",
     "text": [
      "[20:26:13] WARNING: ..\\src\\learner.cc:1061: Starting in XGBoost 1.3.0, the default evaluation metric used with the objective 'binary:logistic' was changed from 'error' to 'logloss'. Explicitly set eval_metric if you'd like to restore the old behavior.\n"
     ]
    }
   ],
   "source": [
    "over = 0.3\n",
    "under = 0.5\n",
    "\n",
    "#pipeline_XGB = create_model_XGB(X_train, y_train, X_test, y_test, over, under)\n",
    "#pipeline_RFC = create_model_RFC(X_train, y_train, X_test, y_test, over, under)\n",
    "#pipeline_LogReg = create_model_LogReg(X_train, y_train, X_test, y_test, over, under)\n",
    "#pipeline_SVC = create_model_SVC(X_train, y_train, X_test, y_test, over, under)\n",
    "pipeline_base = model_base(X_train, y_train, X_test, y_test)"
   ]
  },
  {
   "cell_type": "code",
   "execution_count": 11,
   "metadata": {},
   "outputs": [],
   "source": [
    "y_pred_XGB = pipeline_XGB.predict(X_test)\n",
    "y_pred_RFC = pipeline_RFC.predict(X_test)\n",
    "y_pred_LogReg = pipeline_LogReg.predict(X_test)\n",
    "y_pred_SVC = pipeline_SVC.predict(X_test)\n",
    "y_pred_Base = pipeline_base.predict(X_test)"
   ]
  },
  {
   "cell_type": "code",
   "execution_count": 20,
   "metadata": {},
   "outputs": [
    {
     "name": "stdout",
     "output_type": "stream",
     "text": [
      "ROC Score for XGBClassifier:  0.9435610062820851\n",
      "ROC Score for RandomForestClassifier:  0.9283428129270842\n",
      "ROC Score for Logistic Regression:  0.9427014545266617\n",
      "ROC Score for Support Vector Machine:  0.9358386784651959\n",
      "ROC Score for Base Model:  0.9081017149403374\n"
     ]
    }
   ],
   "source": [
    "print(\"ROC Score for XGBClassifier: \", roc_auc_score(y_test, y_pred_XGB))\n",
    "print(\"ROC Score for RandomForestClassifier: \", roc_auc_score(y_test, y_pred_RFC))\n",
    "print(\"ROC Score for Logistic Regression: \", roc_auc_score(y_test, y_pred_LogReg))\n",
    "print(\"ROC Score for Support Vector Machine: \", roc_auc_score(y_test, y_pred_SVC))\n",
    "print(\"ROC Score for Base Model: \", roc_auc_score(y_test, y_pred_Base))"
   ]
  },
  {
   "cell_type": "code",
   "execution_count": 19,
   "metadata": {},
   "outputs": [
    {
     "name": "stdout",
     "output_type": "stream",
     "text": [
      "Confusion Matrix for XGBClassifier\n",
      "\n",
      "Confusion Matrix for RandomForestClassifier\n",
      "\n",
      "Confusion Matrix for Logistic Regression\n",
      "\n",
      "Confusion Matrix for Support Vector Machine\n"
     ]
    },
    {
     "data": {
      "text/plain": [
       "<sklearn.metrics._plot.confusion_matrix.ConfusionMatrixDisplay at 0x1cb2e842790>"
      ]
     },
     "execution_count": 19,
     "metadata": {},
     "output_type": "execute_result"
    },
    {
     "data": {
      "image/png": "[encoded data removed]",
      "text/plain": [
       "<Figure size 432x288 with 2 Axes>"
      ]
     },
     "metadata": {
      "needs_background": "light"
     },
     "output_type": "display_data"
    },
    {
     "data": {
      "image/png": "[encoded data removed]",
      "text/plain": [
       "<Figure size 432x288 with 2 Axes>"
      ]
     },
     "metadata": {
      "needs_background": "light"
     },
     "output_type": "display_data"
    },
    {
     "data": {
      "image/png": "[encoded data removed]",
      "text/plain": [
       "<Figure size 432x288 with 2 Axes>"
      ]
     },
     "metadata": {
      "needs_background": "light"
     },
     "output_type": "display_data"
    },
    {
     "data": {
      "image/png": "[encoded data removed]",
      "text/plain": [
       "<Figure size 432x288 with 2 Axes>"
      ]
     },
     "metadata": {
      "needs_background": "light"
     },
     "output_type": "display_data"
    },
    {
     "data": {
      "image/png": "[encoded data removed]",
      "text/plain": [
       "<Figure size 432x288 with 2 Axes>"
      ]
     },
     "metadata": {
      "needs_background": "light"
     },
     "output_type": "display_data"
    }
   ],
   "source": [
    "print('Confusion Matrix for XGBClassifier')\n",
    "plot_confusion_matrix(pipeline_XGB, X_test, y_test)\n",
    "print('\\nConfusion Matrix for RandomForestClassifier')\n",
    "plot_confusion_matrix(pipeline_RFC, X_test, y_test)\n",
    "print('\\nConfusion Matrix for Logistic Regression')\n",
    "plot_confusion_matrix(pipeline_LogReg, X_test, y_test)\n",
    "print('\\nConfusion Matrix for Support Vector Machine')\n",
    "plot_confusion_matrix(pipeline_SVC, X_test, y_test)\n",
    "plot_confusion_matrix(pipeline_base, X_test, y_test)  "
   ]
  },
  {
   "cell_type": "code",
   "execution_count": 21,
   "metadata": {},
   "outputs": [
    {
     "name": "stdout",
     "output_type": "stream",
     "text": [
      "Recall Score for XGBClassifier:  0.8877551020408163\n",
      "Recall Score for RandomForestClassifier:  0.8571428571428571\n",
      "Recall Score for Logistic Regression:  0.8979591836734694\n",
      "Recall Score for Support Vector Machine:  0.8775510204081632\n",
      "Recall Score for Base Model:  0.8163265306122449\n"
     ]
    }
   ],
   "source": [
    "print(\"Recall Score for XGBClassifier: \", recall_score(y_test, y_pred_XGB))\n",
    "print(\"Recall Score for RandomForestClassifier: \", recall_score(y_test, y_pred_RFC))\n",
    "print(\"Recall Score for Logistic Regression: \", recall_score(y_test, y_pred_LogReg))\n",
    "print(\"Recall Score for Support Vector Machine: \", recall_score(y_test, y_pred_SVC))\n",
    "print(\"Recall Score for Base Model: \", recall_score(y_test, y_pred_Base))"
   ]
  },
  {
   "cell_type": "code",
   "execution_count": 22,
   "metadata": {},
   "outputs": [
    {
     "name": "stdout",
     "output_type": "stream",
     "text": [
      "F1 Score for XGBClassifier:  0.8934584795674911\n",
      "F1 Score for RandomForestClassifier:  0.9036702771005771\n",
      "F1 Score for Logistic Regression:  0.5945749182081289\n",
      "F1 Score for Support Vector Machine:  0.6644976735448139\n",
      "F1 Score for Base Model:  0.9323225316947786\n"
     ]
    }
   ],
   "source": [
    "print(\"F1 Score for XGBClassifier: \", f1_score(y_test, y_pred_XGB, average='macro'))\n",
    "print(\"F1 Score for RandomForestClassifier: \", f1_score(y_test, y_pred_RFC, average='macro'))\n",
    "print(\"F1 Score for Logistic Regression: \", f1_score(y_test, y_pred_LogReg, average='macro'))\n",
    "print(\"F1 Score for Support Vector Machine: \", f1_score(y_test, y_pred_SVC, average='macro'))\n",
    "print(\"F1 Score for Base Model: \", f1_score(y_test, y_pred_Base, average='macro'))"
   ]
  },
  {
   "cell_type": "code",
   "execution_count": 126,
   "metadata": {},
   "outputs": [],
   "source": [
    "y_pred_XGB = pipeline_XGB.predict_proba(X_test)[:,1]\n",
    "y_pred_RFC = pipeline_RFC.predict_proba(X_test)[:,1]\n",
    "#y_pred_LogReg = pipeline_LogReg.predict_proba(X_test)[:,1] #f1 score too low\n",
    "#y_pred_SVC = pipeline_SVC.predict_proba(X_test) #would need to rerun\n",
    "\n",
    "#y_pred_ens = (y_pred_XGB + y_pred_RFC + y_pred_LogReg)/3\n",
    "y_pred_ens = (y_pred_XGB + y_pred_RFC)/2"
   ]
  },
  {
   "cell_type": "code",
   "execution_count": 127,
   "metadata": {},
   "outputs": [
    {
     "name": "stdout",
     "output_type": "stream",
     "text": [
      "Best Threshold = 0.015169\n"
     ]
    }
   ],
   "source": [
    "fpr, tpr, thresholds = roc_curve(y_test, y_pred_ens)\n",
    "# get the best threshold\n",
    "J = tpr - fpr\n",
    "ix = np.argmax(J)\n",
    "best_thresh = thresholds[ix]\n",
    "print('Best Threshold = %f' % (best_thresh))"
   ]
  },
  {
   "cell_type": "code",
   "execution_count": 128,
   "metadata": {},
   "outputs": [
    {
     "name": "stdout",
     "output_type": "stream",
     "text": [
      "Best Threshold = 0.887010, F-Score = 0.879\n",
      "Best Threshold = 0.623288, F2-Score = 0.875\n",
      "Best Threshold = 0.899821, F0.5-Score = 0.927\n"
     ]
    }
   ],
   "source": [
    "precision, recall, thresholds = precision_recall_curve(y_test, y_pred_ens)\n",
    "# convert to f score\n",
    "fscore = (2 * precision * recall) / (precision + recall)\n",
    "f2_measure = ((5)* precision * recall) / (4*precision + recall)\n",
    "f0_5_measure = ((1.25)* precision * recall) / (0.25*precision + recall)\n",
    "# locate the index of the largest f score\n",
    "ix = np.argmax(fscore)\n",
    "iy = np.argmax(f2_measure)\n",
    "iz = np.argmax(f0_5_measure)\n",
    "print('Best Threshold = %f, F-Score = %.3f' % (thresholds[ix], fscore[ix]))\n",
    "print('Best Threshold = %f, F2-Score = %.3f' % (thresholds[iy], f2_measure[iy]))\n",
    "print('Best Threshold = %f, F0.5-Score = %.3f' % (thresholds[iz], f0_5_measure[iz]))"
   ]
  },
  {
   "cell_type": "code",
   "execution_count": 129,
   "metadata": {},
   "outputs": [
    {
     "name": "stdout",
     "output_type": "stream",
     "text": [
      "F1 Score for Ensembled Model:  0.9363629832748375\n",
      "Recall Score for Ensembled Model:  0.8061224489795918\n",
      "ROC Score for Ensembled Model:  0.9030260528522045\n",
      "[[56860     4]\n",
      " [   19    79]]\n"
     ]
    }
   ],
   "source": [
    "y_pred_ens_f1 = y_pred_ens.copy()\n",
    "y_pred_ens_f1[y_pred_ens_f1 > thresholds[ix]] = 1\n",
    "y_pred_ens_f1[y_pred_ens_f1 <= thresholds[ix]] = 0\n",
    "\n",
    "print(\"F1 Score for Ensembled Model: \", f1_score(y_test, y_pred_ens_f1, average='macro'))\n",
    "print(\"Recall Score for Ensembled Model: \", recall_score(y_test, y_pred_ens_f1))\n",
    "print(\"ROC Score for Ensembled Model: \", roc_auc_score(y_test, y_pred_ens_f1))\n",
    "cnf_matrix = confusion_matrix(y_test,y_pred_ens_f1)\n",
    "print(cnf_matrix)"
   ]
  },
  {
   "cell_type": "code",
   "execution_count": 134,
   "metadata": {},
   "outputs": [
    {
     "name": "stdout",
     "output_type": "stream",
     "text": [
      "F1 Score for Ensembled Model:  0.9256106736577175\n",
      "F2 Score for Ensembled Model:  0.9333200179401828\n",
      "Recall Score for Ensembled Model:  0.8775510204081632\n",
      "ROC Score for Ensembled Model:  0.9386172378349201\n",
      "\n",
      "Confusion Matrix\n",
      "[[56846    18]\n",
      " [   12    86]]\n"
     ]
    }
   ],
   "source": [
    "y_pred_ens_f2 = y_pred_ens.copy()\n",
    "y_pred_ens_f2[y_pred_ens_f2 > thresholds[iy]] = 1\n",
    "y_pred_ens_f2[y_pred_ens_f2 <= thresholds[iy]] = 0\n",
    "\n",
    "print(\"F1 Score for Ensembled Model: \", f1_score(y_test, y_pred_ens_f2, average='macro'))\n",
    "print(\"F2 Score for Ensembled Model: \", fbeta_score(y_test, y_pred_ens_f2, average='macro', beta = 2))\n",
    "print(\"Recall Score for Ensembled Model: \", recall_score(y_test, y_pred_ens_f2))\n",
    "print(\"ROC Score for Ensembled Model: \", roc_auc_score(y_test, y_pred_ens_f2))\n",
    "cnf_matrix = confusion_matrix(y_test,y_pred_ens_f2)\n",
    "print('\\nConfusion Matrix')\n",
    "print(cnf_matrix)"
   ]
  },
  {
   "cell_type": "code",
   "execution_count": 131,
   "metadata": {},
   "outputs": [
    {
     "name": "stdout",
     "output_type": "stream",
     "text": [
      "F1 Score for Ensembled Model:  0.9356530865989321\n",
      "Recall Score for Ensembled Model:  0.7959183673469388\n",
      "ROC Score for Ensembled Model:  0.8979328049452758\n",
      "[[56861     3]\n",
      " [   20    78]]\n"
     ]
    }
   ],
   "source": [
    "y_pred_ens_f05 = y_pred_ens.copy()\n",
    "y_pred_ens_f05[y_pred_ens_f05 > thresholds[iz]] = 1\n",
    "y_pred_ens_f05[y_pred_ens_f05 <= thresholds[iz]] = 0\n",
    "\n",
    "print(\"F1 Score for Ensembled Model: \", f1_score(y_test, y_pred_ens_f05, average='macro'))\n",
    "print(\"Recall Score for Ensembled Model: \", recall_score(y_test, y_pred_ens_f05))\n",
    "print(\"ROC Score for Ensembled Model: \", roc_auc_score(y_test, y_pred_ens_f05))\n",
    "cnf_matrix = confusion_matrix(y_test,y_pred_ens_f05)\n",
    "print(cnf_matrix)"
   ]
  },
  {
   "cell_type": "code",
   "execution_count": null,
   "metadata": {},
   "outputs": [],
   "source": [
    "\n",
    "\"\"\"\n",
    "F1 Score for Ensembled Model:  0.9235090217121559\n",
    "Recall Score for Ensembled Model:  0.8775510204081632\n",
    "ROC Score for Ensembled Model:  0.9386084449255222\n",
    "[[56845    19]\n",
    " [   12    86]]\n",
    " \"\"\""
   ]
  },
  {
   "cell_type": "code",
   "execution_count": 28,
   "metadata": {},
   "outputs": [],
   "source": [
    "from hyperopt import Trials, STATUS_OK, tpe, hp, fmin\n",
    "from sklearn.model_selection import cross_val_score\n",
    "from sklearn.metrics import make_scorer\n",
    "ftwo_scorer = make_scorer(fbeta_score, beta=2)\n",
    "import warnings"
   ]
  },
  {
   "cell_type": "code",
   "execution_count": 40,
   "metadata": {},
   "outputs": [
    {
     "name": "stdout",
     "output_type": "stream",
     "text": [
      "100%|██████████████████████████████████████████| 100/100 [4:28:06<00:00, 160.86s/trial, best loss: 0.15703806095118122]\n",
      "Best:  {'colsample_bytree': 0.27, 'gamma': 0.27, 'learning_rate': 0.25, 'max_depth': 15, 'min_child_weight': 1.0, 'n_estimators': 35, 'over_perc': 0.45, 'subsample': 0.43, 'under_perc': 0.55}\n"
     ]
    }
   ],
   "source": [
    "def objective(space):\n",
    "\n",
    "    warnings.filterwarnings(action='ignore', category=DeprecationWarning)\n",
    "    \n",
    "    oversample = SMOTE(sampling_strategy = space['over_perc'])\n",
    "    undersample = RandomUnderSampler(sampling_strategy = space['under_perc'])\n",
    "    model = XGBClassifier(n_estimators = space['n_estimators'],\n",
    "                            max_depth = int(space['max_depth']),\n",
    "                            learning_rate = space['learning_rate'],\n",
    "                            gamma = space['gamma'],\n",
    "                            min_child_weight = space['min_child_weight'],\n",
    "                            subsample = space['subsample'],\n",
    "                            colsample_bytree = space['colsample_bytree'],\n",
    "                            eval_metric = 'aucpr',\n",
    "                            use_label_encoder = False\n",
    "                            )\n",
    "    steps = [('over', oversample), ('under', undersample), ('model', model)]\n",
    "    pipeline = Pipeline(steps=steps)\n",
    "    pipeline.fit(X_train, y_train)\n",
    "    \n",
    "    # Applying k-Fold Cross Validation\n",
    "\n",
    "    scores = cross_val_score(estimator = pipeline, X = X_train, y = y_train, cv = 10, scoring=ftwo_scorer)\n",
    "    CrossValF2 = scores.mean()\n",
    "\n",
    "    #print(\"CrossValMean:\", CrossValMean)\n",
    "    return{'loss':1-CrossValF2, 'status': STATUS_OK }\n",
    "\n",
    "def objective_RFC(space):\n",
    "\n",
    "    warnings.filterwarnings(action='ignore', category=DeprecationWarning)\n",
    "    \n",
    "    oversample = SMOTE(sampling_strategy = space['over_perc'])\n",
    "    undersample = RandomUnderSampler(sampling_strategy = space['under_perc'])\n",
    "    model = XGBClassifier(n_estimators = space['n_estimators'],\n",
    "                            max_depth = int(space['max_depth']),\n",
    "                            learning_rate = space['learning_rate'],\n",
    "                            gamma = space['gamma'],\n",
    "                            min_child_weight = space['min_child_weight'],\n",
    "                            subsample = space['subsample'],\n",
    "                            colsample_bytree = space['colsample_bytree'],\n",
    "                            eval_metric = 'aucpr',\n",
    "                            use_label_encoder = False\n",
    "                            )\n",
    "    steps = [('over', oversample), ('under', undersample), ('model', model)]\n",
    "    pipeline = Pipeline(steps=steps)\n",
    "    pipeline.fit(X_train, y_train)\n",
    "    \n",
    "    # Applying k-Fold Cross Validation\n",
    "\n",
    "    scores = cross_val_score(estimator = pipeline, X = X_train, y = y_train, cv = 10, scoring=ftwo_scorer)\n",
    "    CrossValF2 = scores.mean()\n",
    "\n",
    "    #print(\"CrossValMean:\", CrossValMean)\n",
    "    return{'loss':1-CrossValF2, 'status': STATUS_OK }\n",
    "\n",
    "space = {\n",
    "    'over_perc' : hp.quniform('over_perc', 0.1, 0.50, 0.05),\n",
    "    'under_perc' : hp.quniform('under_perc', 0.50, 1.00, 0.05),\n",
    "    'max_depth' : hp.choice('max_depth', range(5, 30, 1)),\n",
    "    'learning_rate' : hp.quniform('learning_rate', 0.01, 0.5, 0.01),\n",
    "    'n_estimators' : hp.choice('n_estimators', range(20, 205, 5)),\n",
    "    'gamma' : hp.quniform('gamma', 0, 0.50, 0.01),\n",
    "    'min_child_weight' : hp.quniform('min_child_weight', 1, 10, 1),\n",
    "    'subsample' : hp.quniform('subsample', 0.1, 1, 0.01),\n",
    "    'colsample_bytree' : hp.quniform('colsample_bytree', 0.1, 1.0, 0.01)}\n",
    "\n",
    "trials = Trials()\n",
    "\n",
    "best = fmin(fn=objective,\n",
    "            space=space,\n",
    "            algo=tpe.suggest,\n",
    "            max_evals=100,\n",
    "            trials=trials)\n",
    "\n",
    "print(\"Best: \", best)"
   ]
  },
  {
   "cell_type": "code",
   "execution_count": 43,
   "metadata": {},
   "outputs": [],
   "source": [
    "def create_model_XGB_best(X_train, y_train, best):\n",
    "    \n",
    "    oversample = SMOTE(sampling_strategy = best['over_perc'])\n",
    "    undersample = RandomUnderSampler(sampling_strategy = best['under_perc'])\n",
    "    model = XGBClassifier(n_estimators = best['n_estimators'],\n",
    "                            max_depth = int(best['max_depth']),\n",
    "                            learning_rate = best['learning_rate'],\n",
    "                            gamma = best['gamma'],\n",
    "                            min_child_weight = best['min_child_weight'],\n",
    "                            subsample = best['subsample'],\n",
    "                            colsample_bytree = best['colsample_bytree'],\n",
    "                            eval_metric = 'aucpr',\n",
    "                            use_label_encoder = False)\n",
    "    steps = [('over', oversample), ('under', undersample), ('model', model)]\n",
    "    pipeline = Pipeline(steps=steps)\n",
    "    pipeline.fit(X_train, y_train)\n",
    "    return(pipeline)"
   ]
  },
  {
   "cell_type": "code",
   "execution_count": 44,
   "metadata": {},
   "outputs": [
    {
     "name": "stdout",
     "output_type": "stream",
     "text": [
      "F1 Score for Ensembled Model:  0.9074114540376719\n",
      "F2 Score for Ensembled Model:  0.9255315332978928\n",
      "Recall Score for Ensembled Model:  0.8775510204081632\n",
      "ROC Score for Ensembled Model:  0.9385381016503392\n"
     ]
    },
    {
     "data": {
      "image/png": "[encoded data removed]",
      "text/plain": [
       "<Figure size 432x288 with 2 Axes>"
      ]
     },
     "metadata": {
      "needs_background": "light"
     },
     "output_type": "display_data"
    }
   ],
   "source": [
    "pipeline_best = create_model_XGB_best(X_train, y_train, best)\n",
    "plot_confusion_matrix(pipeline_best, X_test, y_test)\n",
    "y_pred_best = pipeline_best.predict(X_test)\n",
    "print(\"F1 Score for Ensembled Model: \", f1_score(y_test, y_pred_best, average='macro'))\n",
    "print(\"F2 Score for Ensembled Model: \", fbeta_score(y_test, y_pred_best, average='macro', beta = 2))\n",
    "print(\"Recall Score for Ensembled Model: \", recall_score(y_test, y_pred_best))\n",
    "print(\"ROC Score for Ensembled Model: \", roc_auc_score(y_test, y_pred_best))"
   ]
  },
  {
   "cell_type": "code",
   "execution_count": null,
   "metadata": {},
   "outputs": [],
   "source": []
  }
 ],
 "metadata": {
  "kernelspec": {
   "display_name": "Python 3",
   "language": "python",
   "name": "python3"
  },
  "language_info": {
   "codemirror_mode": {
    "name": "ipython",
    "version": 3
   },
   "file_extension": ".py",
   "mimetype": "text/x-python",
   "name": "python",
   "nbconvert_exporter": "python",
   "pygments_lexer": "ipython3",
   "version": "3.8.5"
  }
 },
 "nbformat": 4,
 "nbformat_minor": 4
}
